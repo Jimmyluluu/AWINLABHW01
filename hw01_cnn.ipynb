{
 "cells": [
  {
   "cell_type": "code",
   "execution_count": 2,
   "metadata": {},
   "outputs": [],
   "source": [
    "import os, torch\n",
    "import numpy as np\n",
    "import torch.nn as nn\n",
    "import matplotlib.pyplot as plt\n",
    "from PIL import Image\n",
    "\n",
    "from torchvision import models, transforms\n",
    "from torch.utils.data import Dataset, DataLoader\n",
    "from torchvision.datasets import ImageFolder\n",
    "from torch import optim\n",
    "from torchsummary import summary"
   ]
  },
  {
   "cell_type": "code",
   "execution_count": 3,
   "metadata": {},
   "outputs": [
    {
     "name": "stdout",
     "output_type": "stream",
     "text": [
      "cuda\n"
     ]
    }
   ],
   "source": [
    "# 確定使用 CPU or Cuda\n",
    "device = torch.device('cuda' if torch.cuda.is_available() else 'cpu')\n",
    "print(device)"
   ]
  },
  {
   "cell_type": "code",
   "execution_count": 4,
   "metadata": {},
   "outputs": [],
   "source": [
    "# 實作一個可以讀取 stanford dog (mini) 的 Pytorch dataset\n",
    "class DogDataset(Dataset):\n",
    "    \n",
    "    def __init__(self, filenames, labels, transform):\n",
    "        self.filenames = filenames    # 資料集的所有檔名\n",
    "        self.labels = labels          # 影像的標籤\n",
    "        self.transform = transform    # 影像的轉換方式\n",
    " \n",
    "    def __len__(self):\n",
    "        return len(self.filenames)    # return DataSet 長度\n",
    " \n",
    "    def __getitem__(self, idx):       # idx: Inedx of filenames\n",
    "        image = Image.open(self.filenames[idx]).convert('RGB')\n",
    "        image = self.transform(image) # Transform image\n",
    "        label = np.array(self.labels[idx])\n",
    "        return image, label           # return 模型訓練所需的資訊"
   ]
  },
  {
   "cell_type": "code",
   "execution_count": 6,
   "metadata": {},
   "outputs": [],
   "source": [
    "train_transformer = transforms.Compose([\n",
    "    transforms.Resize(256), # 將圖像大小調整到256x256像素\n",
    "    transforms.CenterCrop(224), # 從圖像中心裁剪出224x224像素的區域\n",
    "    transforms.ToTensor(), # 圖像轉換成PyTorch的Tensor\n",
    "    # 標準化處理 mean 代表平均值 std 代表標準差 利用每個通道的像素減去相應的均值除以標準差 可使像素值分佈接近標準正態分佈\n",
    "    transforms.Normalize(mean=[0.485, 0.456, 0.406], std=[0.229, 0.224, 0.225]),\n",
    "])\n",
    "\n",
    "test_transformer = transforms.Compose([\n",
    "    transforms.Resize(224),\n",
    "    transforms.CenterCrop(224),\n",
    "    transforms.ToTensor(),\n",
    "    transforms.Normalize(mean=[0.485, 0.456, 0.406], std=[0.229, 0.224, 0.225]),\n",
    "])"
   ]
  },
  {
   "cell_type": "code",
   "execution_count": 13,
   "metadata": {},
   "outputs": [],
   "source": [
    "# 參數設定\n",
    "batch_size = 32                                  # Batch Size\n",
    "lr = 1e-3                                        # Learning Rate\n",
    "epochs = 10                                      # epoch 次數\n",
    "\n",
    "data_dir = 'train'                               # 資料夾名稱"
   ]
  },
  {
   "cell_type": "code",
   "execution_count": 14,
   "metadata": {},
   "outputs": [],
   "source": [
    "def split_Train_Val_Data(data_dir):\n",
    "    dataset = ImageFolder(data_dir)\n",
    "    # 建立 20 類的 list\n",
    "    character = [[] for i in range(len(dataset.classes))]\n",
    "    \n",
    "    # 將每一類的檔名依序存入相對應的 list\n",
    "    for x, y in dataset.samples:\n",
    "        character[y].append(x)\n",
    "      \n",
    "    train_inputs, test_inputs = [], []\n",
    "    train_labels, test_labels = [], []\n",
    "    \n",
    "    for i, data in enumerate(character): # 讀取每個類別中所有的檔名 (i: label, data: filename)\n",
    "        np.random.seed(42)\n",
    "        np.random.shuffle(data)\n",
    "            \n",
    "        # -------------------------------------------\n",
    "        # 將每一類都以 8:2 的比例分成訓練資料和測試資料\n",
    "        # -------------------------------------------\n",
    "        num_sample_train = int(len(data) * 0.8)\n",
    "        num_sample_test = len(data) - num_sample_train\n",
    "        print(str(i) + ': ' + str(len(data)) + ' | ' + str(num_sample_train) + ' | ' + str(num_sample_test))\n",
    "        \n",
    "        for x in data[:num_sample_train] : # 前 80% 資料存進 training list\n",
    "            train_inputs.append(x)\n",
    "            train_labels.append(i)\n",
    "            \n",
    "        for x in data[num_sample_train:] : # 後 20% 資料存進 testing list\n",
    "            test_inputs.append(x)\n",
    "            test_labels.append(i)\n",
    "\n",
    "    train_dataloader = DataLoader(DogDataset(train_inputs, train_labels, train_transformer),\n",
    "                                  batch_size = batch_size, shuffle = True)\n",
    "    test_dataloader = DataLoader(DogDataset(test_inputs, test_labels, test_transformer),\n",
    "                                  batch_size = batch_size, shuffle = False)\n",
    "    return train_dataloader, test_dataloader"
   ]
  },
  {
   "cell_type": "code",
   "execution_count": 15,
   "metadata": {},
   "outputs": [
    {
     "name": "stdout",
     "output_type": "stream",
     "text": [
      "0: 105 | 84 | 21\n",
      "1: 123 | 98 | 25\n",
      "2: 147 | 117 | 30\n",
      "3: 107 | 85 | 22\n",
      "4: 108 | 86 | 22\n",
      "5: 114 | 91 | 23\n",
      "6: 129 | 103 | 26\n",
      "7: 93 | 74 | 19\n",
      "8: 109 | 87 | 22\n",
      "9: 108 | 86 | 22\n",
      "10: 78 | 62 | 16\n",
      "11: 103 | 82 | 21\n",
      "12: 149 | 119 | 30\n",
      "13: 148 | 118 | 30\n",
      "14: 81 | 64 | 17\n",
      "----------------------------------------------------------------\n",
      "        Layer (type)               Output Shape         Param #\n",
      "================================================================\n",
      "            Conv2d-1         [-1, 64, 244, 244]           1,792\n",
      "              ReLU-2         [-1, 64, 244, 244]               0\n",
      "            Conv2d-3         [-1, 64, 244, 244]          36,928\n",
      "              ReLU-4         [-1, 64, 244, 244]               0\n",
      "         MaxPool2d-5         [-1, 64, 122, 122]               0\n",
      "            Conv2d-6        [-1, 128, 122, 122]          73,856\n",
      "              ReLU-7        [-1, 128, 122, 122]               0\n",
      "            Conv2d-8        [-1, 128, 122, 122]         147,584\n",
      "              ReLU-9        [-1, 128, 122, 122]               0\n",
      "        MaxPool2d-10          [-1, 128, 61, 61]               0\n",
      "           Conv2d-11          [-1, 256, 61, 61]         295,168\n",
      "             ReLU-12          [-1, 256, 61, 61]               0\n",
      "           Conv2d-13          [-1, 256, 61, 61]         590,080\n",
      "             ReLU-14          [-1, 256, 61, 61]               0\n",
      "           Conv2d-15          [-1, 256, 61, 61]         590,080\n",
      "             ReLU-16          [-1, 256, 61, 61]               0\n",
      "        MaxPool2d-17          [-1, 256, 30, 30]               0\n",
      "           Conv2d-18          [-1, 512, 30, 30]       1,180,160\n",
      "             ReLU-19          [-1, 512, 30, 30]               0\n",
      "           Conv2d-20          [-1, 512, 30, 30]       2,359,808\n",
      "             ReLU-21          [-1, 512, 30, 30]               0\n",
      "           Conv2d-22          [-1, 512, 30, 30]       2,359,808\n",
      "             ReLU-23          [-1, 512, 30, 30]               0\n",
      "        MaxPool2d-24          [-1, 512, 15, 15]               0\n",
      "           Conv2d-25          [-1, 512, 15, 15]       2,359,808\n",
      "             ReLU-26          [-1, 512, 15, 15]               0\n",
      "           Conv2d-27          [-1, 512, 15, 15]       2,359,808\n",
      "             ReLU-28          [-1, 512, 15, 15]               0\n",
      "           Conv2d-29          [-1, 512, 15, 15]       2,359,808\n",
      "             ReLU-30          [-1, 512, 15, 15]               0\n",
      "        MaxPool2d-31            [-1, 512, 7, 7]               0\n",
      "AdaptiveAvgPool2d-32            [-1, 512, 7, 7]               0\n",
      "           Linear-33                 [-1, 4096]     102,764,544\n",
      "             ReLU-34                 [-1, 4096]               0\n",
      "          Dropout-35                 [-1, 4096]               0\n",
      "           Linear-36                 [-1, 4096]      16,781,312\n",
      "             ReLU-37                 [-1, 4096]               0\n",
      "          Dropout-38                 [-1, 4096]               0\n",
      "           Linear-39                 [-1, 1000]       4,097,000\n",
      "================================================================\n",
      "Total params: 138,357,544\n",
      "Trainable params: 138,357,544\n",
      "Non-trainable params: 0\n",
      "----------------------------------------------------------------\n",
      "Input size (MB): 0.68\n",
      "Forward/backward pass size (MB): 258.51\n",
      "Params size (MB): 527.79\n",
      "Estimated Total Size (MB): 786.98\n",
      "----------------------------------------------------------------\n"
     ]
    }
   ],
   "source": [
    "train_dataloader, test_dataloader = split_Train_Val_Data(data_dir)\n",
    "C = models.vgg16(pretrained=True).to(device)     # 使用內建的 model \n",
    "optimizer_C = optim.SGD(C.parameters(), lr = lr) # 選擇你想用的 optimizer\n",
    "summary(C, (3, 244, 244))                        # 利用 torchsummary 的 summary package 印出模型資訊，input size: (3 * 224 * 224)\n",
    "# Loss function\n",
    "criterion = nn.CrossEntropyLoss()                # 選擇想用的 loss function"
   ]
  },
  {
   "cell_type": "code",
   "execution_count": 16,
   "metadata": {},
   "outputs": [],
   "source": [
    "loss_epoch_C = []\n",
    "train_acc, test_acc = [], []\n",
    "best_acc, best_auc = 0.0, 0.0"
   ]
  },
  {
   "cell_type": "code",
   "execution_count": 17,
   "metadata": {},
   "outputs": [
    {
     "name": "stdout",
     "output_type": "stream",
     "text": [
      "epoch: 1 / 10\n",
      "Training epoch: 1 / loss_C: 5.858 | acc: 0.074\n",
      "Testing acc: 0.223\n",
      "Cost 14.625(secs)\n",
      "epoch: 2 / 10\n",
      "Training epoch: 2 / loss_C: 2.783 | acc: 0.296\n",
      "Testing acc: 0.405\n",
      "Cost 14.077(secs)\n",
      "epoch: 3 / 10\n",
      "Training epoch: 3 / loss_C: 1.779 | acc: 0.482\n",
      "Testing acc: 0.564\n",
      "Cost 13.441(secs)\n",
      "epoch: 4 / 10\n",
      "Training epoch: 4 / loss_C: 1.182 | acc: 0.626\n",
      "Testing acc: 0.740\n",
      "Cost 13.467(secs)\n",
      "epoch: 5 / 10\n",
      "Training epoch: 5 / loss_C: 0.803 | acc: 0.750\n",
      "Testing acc: 0.734\n",
      "Cost 14.905(secs)\n",
      "epoch: 6 / 10\n",
      "Training epoch: 6 / loss_C: 0.641 | acc: 0.794\n",
      "Testing acc: 0.801\n",
      "Cost 14.693(secs)\n",
      "epoch: 7 / 10\n",
      "Training epoch: 7 / loss_C: 0.498 | acc: 0.838\n",
      "Testing acc: 0.821\n",
      "Cost 14.935(secs)\n",
      "epoch: 8 / 10\n",
      "Training epoch: 8 / loss_C: 0.391 | acc: 0.871\n",
      "Testing acc: 0.850\n",
      "Cost 14.405(secs)\n",
      "epoch: 9 / 10\n",
      "Training epoch: 9 / loss_C: 0.314 | acc: 0.890\n",
      "Testing acc: 0.847\n",
      "Cost 13.454(secs)\n",
      "epoch: 10 / 10\n",
      "Training epoch: 10 / loss_C: 0.292 | acc: 0.911\n",
      "Testing acc: 0.841\n",
      "Cost 13.699(secs)\n"
     ]
    }
   ],
   "source": [
    "import time\n",
    "\n",
    "\n",
    "if __name__ == '__main__':    \n",
    "    for epoch in range(epochs):\n",
    "        start_time = time.time()\n",
    "        iter = 0\n",
    "        correct_train, total_train = 0, 0\n",
    "        correct_test, total_test = 0, 0\n",
    "        train_loss_C = 0.0\n",
    "\n",
    "        C.train() # 設定 train 或 eval\n",
    "        print('epoch: ' + str(epoch + 1) + ' / ' + str(epochs))  \n",
    "        \n",
    "        # ---------------------------\n",
    "        # Training Stage\n",
    "        # ---------------------------\n",
    "        for i, (x, label) in enumerate(train_dataloader) :\n",
    "            x, label = x.to(device), label.to(device)\n",
    "            optimizer_C.zero_grad()                         # 清空梯度\n",
    "            train_output = C(x)                             # 將訓練資料輸入至模型進行訓練 (Forward propagation)\n",
    "            train_loss = criterion(train_output, label)     # 計算 loss\n",
    "            train_loss.backward()                           # 將 loss 反向傳播\n",
    "            optimizer_C.step()                              # 更新權重\n",
    "            \n",
    "            # 計算訓練資料的準確度 (correct_train / total_train)\n",
    "            _, predicted = torch.max(train_output.data, 1)  # 取出預測的 maximum\n",
    "            total_train += label.size(0)\n",
    "            correct_train += (predicted == label).sum()\n",
    "            train_loss_C += train_loss.item()\n",
    "            iter += 1\n",
    "                    \n",
    "        print('Training epoch: %d / loss_C: %.3f | acc: %.3f' % \\\n",
    "              (epoch + 1, train_loss_C / iter, correct_train / total_train))\n",
    "        \n",
    "        # --------------------------\n",
    "        # Testing Stage\n",
    "        # --------------------------\n",
    "        C.eval() # 設定 train 或 eval\n",
    "        for i, (x, label) in enumerate(test_dataloader) :\n",
    "            with torch.no_grad():                           # 測試階段不需要求梯度\n",
    "                x, label = x.to(device), label.to(device)\n",
    "                test_output = C(x)                          # 將測試資料輸入至模型進行測試\n",
    "                test_loss = criterion(test_output, label)   # 計算 loss\n",
    "                \n",
    "                # 計算測試資料的準確度 (correct_test / total_test)\n",
    "                _, predicted = torch.max(test_output.data, 1)\n",
    "                total_test += label.size(0)\n",
    "                correct_test += (predicted == label).sum()\n",
    "        \n",
    "        print('Testing acc: %.3f' % (correct_test / total_test))\n",
    "                                     \n",
    "        train_acc.append(100 * (correct_train / total_train).cpu()) # training accuracy\n",
    "        test_acc.append(100 * (correct_test / total_test).cpu())    # testing accuracy\n",
    "        loss_epoch_C.append((train_loss_C / iter))            # loss \n",
    "\n",
    "        end_time = time.time()\n",
    "        print('Cost %.3f(secs)' % (end_time - start_time))"
   ]
  },
  {
   "cell_type": "code",
   "execution_count": 18,
   "metadata": {},
   "outputs": [
    {
     "data": {
      "image/png": "[encoded data removed]",
      "text/plain": [
       "<Figure size 640x480 with 1 Axes>"
      ]
     },
     "metadata": {},
     "output_type": "display_data"
    },
    {
     "data": {
      "image/png": "[encoded data removed]",
      "text/plain": [
       "<Figure size 640x480 with 1 Axes>"
      ]
     },
     "metadata": {},
     "output_type": "display_data"
    }
   ],
   "source": [
    "fig_dir = './fig/'\n",
    "if not os.path.isdir(fig_dir):\n",
    "    os.makedirs(fig_dir)\n",
    "\n",
    "plt.figure()\n",
    "plt.plot(list(range(epochs)), loss_epoch_C) # plot your loss\n",
    "plt.title('Training Loss')\n",
    "plt.ylabel('loss'), plt.xlabel('epoch')\n",
    "plt.legend(['loss_C'], loc = 'upper left')\n",
    "plt.savefig(os.path.join(fig_dir, 'loss.png'))\n",
    "plt.show()\n",
    "\n",
    "plt.figure()\n",
    "plt.plot(list(range(epochs)), train_acc)    # plot your training accuracy\n",
    "plt.plot(list(range(epochs)), test_acc)     # plot your testing accuracy\n",
    "plt.title('Training acc')\n",
    "plt.ylabel('acc (%)'), plt.xlabel('epoch')\n",
    "plt.legend(['training acc', 'testing acc'], loc = 'upper left')\n",
    "plt.savefig(os.path.join(fig_dir, 'acc.png'))\n",
    "plt.show()"
   ]
  }
 ],
 "metadata": {
  "kernelspec": {
   "display_name": "Python 3",
   "language": "python",
   "name": "python3"
  },
  "language_info": {
   "codemirror_mode": {
    "name": "ipython",
    "version": 3
   },
   "file_extension": ".py",
   "mimetype": "text/x-python",
   "name": "python",
   "nbconvert_exporter": "python",
   "pygments_lexer": "ipython3",
   "version": "3.8.10"
  }
 },
 "nbformat": 4,
 "nbformat_minor": 2
}
