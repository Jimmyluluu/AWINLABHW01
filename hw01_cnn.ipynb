{
 "cells": [
  {
   "cell_type": "code",
   "execution_count": 26,
   "metadata": {},
   "outputs": [],
   "source": [
    "import os, torch\n",
    "import numpy as np\n",
    "import torch.nn as nn\n",
    "import matplotlib.pyplot as plt\n",
    "from PIL import Image\n",
    "from torchvision import models, transforms\n",
    "from torch.utils.data import Dataset, DataLoader\n",
    "from torchvision.datasets import ImageFolder\n",
    "from torch import optim\n",
    "from torchsummary import summary"
   ]
  },
  {
   "cell_type": "code",
   "execution_count": 27,
   "metadata": {},
   "outputs": [
    {
     "name": "stdout",
     "output_type": "stream",
     "text": [
      "cuda\n"
     ]
    }
   ],
   "source": [
    "# 確定使用 CPU or Cuda\n",
    "device = torch.device('cuda' if torch.cuda.is_available() else 'cpu')\n",
    "print(device)"
   ]
  },
  {
   "cell_type": "code",
   "execution_count": 28,
   "metadata": {},
   "outputs": [],
   "source": [
    "# 實作一個可以讀取 stanford dog (mini) 的 Pytorch dataset\n",
    "class DogDataset(Dataset):\n",
    "    \n",
    "    def __init__(self, filenames, labels, transform):\n",
    "        self.filenames = filenames    # 資料集的所有檔名\n",
    "        self.labels = labels          # 影像的標籤\n",
    "        self.transform = transform    # 影像的轉換方式\n",
    " \n",
    "    def __len__(self):\n",
    "        return len(self.filenames)    # return DataSet 長度\n",
    " \n",
    "    def __getitem__(self, idx):       # idx: Inedx of filenames\n",
    "        image = Image.open(self.filenames[idx]).convert('RGB')\n",
    "        image = self.transform(image) # Transform image\n",
    "        label = np.array(self.labels[idx])\n",
    "        return image, label           # return 模型訓練所需的資訊"
   ]
  },
  {
   "cell_type": "code",
   "execution_count": 29,
   "metadata": {},
   "outputs": [],
   "source": [
    "train_transformer = transforms.Compose([\n",
    "    transforms.Resize(256), # 將圖像大小調整到256x256像素\n",
    "    transforms.CenterCrop(224), # 從圖像中心裁剪出224x224像素的區域\n",
    "    transforms.ToTensor(), # 圖像轉換成PyTorch的Tensor\n",
    "    # 標準化處理 mean 代表平均值 std 代表標準差 利用每個通道的像素減去相應的均值除以標準差 可使像素值分佈接近標準正態分佈\n",
    "    transforms.Normalize(mean=[0.485, 0.456, 0.406], std=[0.229, 0.224, 0.225]),\n",
    "])\n",
    "\n",
    "test_transformer = transforms.Compose([\n",
    "    transforms.Resize(224),\n",
    "    transforms.CenterCrop(224),\n",
    "    transforms.ToTensor(),\n",
    "    transforms.Normalize(mean=[0.485, 0.456, 0.406], std=[0.229, 0.224, 0.225]),\n",
    "])"
   ]
  },
  {
   "cell_type": "code",
   "execution_count": 30,
   "metadata": {},
   "outputs": [],
   "source": [
    "# 參數設定\n",
    "batch_size = 32                                  # Batch Size\n",
    "lr = 1e-3                                        # Learning Rate\n",
    "epochs = 10                                      # epoch 次數\n",
    "\n",
    "data_dir = 'train'                               # 資料夾名稱"
   ]
  },
  {
   "cell_type": "code",
   "execution_count": 31,
   "metadata": {},
   "outputs": [],
   "source": [
    "def split_Train_Val_Data(data_dir):\n",
    "    dataset = ImageFolder(data_dir)\n",
    "    # 建立 20 類的 list\n",
    "    character = [[] for i in range(len(dataset.classes))]\n",
    "    \n",
    "    # 將每一類的檔名依序存入相對應的 list\n",
    "    for x, y in dataset.samples:\n",
    "        character[y].append(x)\n",
    "      \n",
    "    train_inputs, test_inputs = [], []\n",
    "    train_labels, test_labels = [], []\n",
    "    \n",
    "    for i, data in enumerate(character): # 讀取每個類別中所有的檔名 (i: label, data: filename)\n",
    "        np.random.seed(42)\n",
    "        np.random.shuffle(data)\n",
    "            \n",
    "        # -------------------------------------------\n",
    "        # 將每一類都以 8:2 的比例分成訓練資料和測試資料\n",
    "        # -------------------------------------------\n",
    "        num_sample_train = int(len(data) * 0.8)\n",
    "        num_sample_test = len(data) - num_sample_train\n",
    "        print(str(i) + ': ' + str(len(data)) + ' | ' + str(num_sample_train) + ' | ' + str(num_sample_test))\n",
    "        \n",
    "        for x in data[:num_sample_train] : # 前 80% 資料存進 training list\n",
    "            train_inputs.append(x)\n",
    "            train_labels.append(i)\n",
    "            \n",
    "        for x in data[num_sample_train:] : # 後 20% 資料存進 testing list\n",
    "            test_inputs.append(x)\n",
    "            test_labels.append(i)\n",
    "\n",
    "    train_dataloader = DataLoader(DogDataset(train_inputs, train_labels, train_transformer),\n",
    "                                  batch_size = batch_size, shuffle = True)\n",
    "    val_dataloader = DataLoader(DogDataset(test_inputs, test_labels, test_transformer),\n",
    "                                  batch_size = batch_size, shuffle = False)\n",
    "    return train_dataloader, val_dataloader"
   ]
  },
  {
   "cell_type": "code",
   "execution_count": 32,
   "metadata": {},
   "outputs": [
    {
     "name": "stdout",
     "output_type": "stream",
     "text": [
      "0: 105 | 84 | 21\n",
      "1: 123 | 98 | 25\n",
      "2: 147 | 117 | 30\n",
      "3: 107 | 85 | 22\n",
      "4: 108 | 86 | 22\n",
      "5: 114 | 91 | 23\n",
      "6: 129 | 103 | 26\n",
      "7: 93 | 74 | 19\n",
      "8: 109 | 87 | 22\n",
      "9: 108 | 86 | 22\n",
      "10: 78 | 62 | 16\n",
      "11: 103 | 82 | 21\n",
      "12: 149 | 119 | 30\n",
      "13: 148 | 118 | 30\n",
      "14: 81 | 64 | 17\n"
     ]
    },
    {
     "name": "stderr",
     "output_type": "stream",
     "text": [
      "/home/user01/AWINLABHW01/myenv/lib/python3.8/site-packages/torchvision/models/_utils.py:208: UserWarning: The parameter 'pretrained' is deprecated since 0.13 and may be removed in the future, please use 'weights' instead.\n",
      "  warnings.warn(\n",
      "/home/user01/AWINLABHW01/myenv/lib/python3.8/site-packages/torchvision/models/_utils.py:223: UserWarning: Arguments other than a weight enum or `None` for 'weights' are deprecated since 0.13 and may be removed in the future. The current behavior is equivalent to passing `weights=VGG16_Weights.IMAGENET1K_V1`. You can also use `weights=VGG16_Weights.DEFAULT` to get the most up-to-date weights.\n",
      "  warnings.warn(msg)\n"
     ]
    },
    {
     "name": "stdout",
     "output_type": "stream",
     "text": [
      "----------------------------------------------------------------\n",
      "        Layer (type)               Output Shape         Param #\n",
      "================================================================\n",
      "            Conv2d-1         [-1, 64, 244, 244]           1,792\n",
      "              ReLU-2         [-1, 64, 244, 244]               0\n",
      "            Conv2d-3         [-1, 64, 244, 244]          36,928\n",
      "              ReLU-4         [-1, 64, 244, 244]               0\n",
      "         MaxPool2d-5         [-1, 64, 122, 122]               0\n",
      "            Conv2d-6        [-1, 128, 122, 122]          73,856\n",
      "              ReLU-7        [-1, 128, 122, 122]               0\n",
      "            Conv2d-8        [-1, 128, 122, 122]         147,584\n",
      "              ReLU-9        [-1, 128, 122, 122]               0\n",
      "        MaxPool2d-10          [-1, 128, 61, 61]               0\n",
      "           Conv2d-11          [-1, 256, 61, 61]         295,168\n",
      "             ReLU-12          [-1, 256, 61, 61]               0\n",
      "           Conv2d-13          [-1, 256, 61, 61]         590,080\n",
      "             ReLU-14          [-1, 256, 61, 61]               0\n",
      "           Conv2d-15          [-1, 256, 61, 61]         590,080\n",
      "             ReLU-16          [-1, 256, 61, 61]               0\n",
      "        MaxPool2d-17          [-1, 256, 30, 30]               0\n",
      "           Conv2d-18          [-1, 512, 30, 30]       1,180,160\n",
      "             ReLU-19          [-1, 512, 30, 30]               0\n",
      "           Conv2d-20          [-1, 512, 30, 30]       2,359,808\n",
      "             ReLU-21          [-1, 512, 30, 30]               0\n",
      "           Conv2d-22          [-1, 512, 30, 30]       2,359,808\n",
      "             ReLU-23          [-1, 512, 30, 30]               0\n",
      "        MaxPool2d-24          [-1, 512, 15, 15]               0\n",
      "           Conv2d-25          [-1, 512, 15, 15]       2,359,808\n",
      "             ReLU-26          [-1, 512, 15, 15]               0\n",
      "           Conv2d-27          [-1, 512, 15, 15]       2,359,808\n",
      "             ReLU-28          [-1, 512, 15, 15]               0\n",
      "           Conv2d-29          [-1, 512, 15, 15]       2,359,808\n",
      "             ReLU-30          [-1, 512, 15, 15]               0\n",
      "        MaxPool2d-31            [-1, 512, 7, 7]               0\n",
      "AdaptiveAvgPool2d-32            [-1, 512, 7, 7]               0\n",
      "           Linear-33                 [-1, 4096]     102,764,544\n",
      "             ReLU-34                 [-1, 4096]               0\n",
      "          Dropout-35                 [-1, 4096]               0\n",
      "           Linear-36                 [-1, 4096]      16,781,312\n",
      "             ReLU-37                 [-1, 4096]               0\n",
      "          Dropout-38                 [-1, 4096]               0\n",
      "           Linear-39                 [-1, 1000]       4,097,000\n",
      "================================================================\n",
      "Total params: 138,357,544\n",
      "Trainable params: 138,357,544\n",
      "Non-trainable params: 0\n",
      "----------------------------------------------------------------\n",
      "Input size (MB): 0.68\n",
      "Forward/backward pass size (MB): 258.51\n",
      "Params size (MB): 527.79\n",
      "Estimated Total Size (MB): 786.98\n",
      "----------------------------------------------------------------\n"
     ]
    }
   ],
   "source": [
    "train_dataloader, val_dataloader = split_Train_Val_Data(data_dir)\n",
    "C = models.vgg16(pretrained=True).to(device)     # 使用內建的 model \n",
    "optimizer_C = optim.SGD(C.parameters(), lr = lr) # 選擇你想用的 optimizer\n",
    "summary(C, (3, 244, 244))                        # 利用 torchsummary 的 summary package 印出模型資訊，input size: (3 * 224 * 224)\n",
    "# Loss function\n",
    "criterion = nn.CrossEntropyLoss()                # 選擇想用的 loss function"
   ]
  },
  {
   "cell_type": "code",
   "execution_count": 33,
   "metadata": {},
   "outputs": [],
   "source": [
    "loss_epoch_C = []\n",
    "train_acc, val_acc, test_acc = [], [], []\n",
    "best_acc, best_auc = 0.0, 0.0"
   ]
  },
  {
   "cell_type": "code",
   "execution_count": 34,
   "metadata": {},
   "outputs": [
    {
     "name": "stdout",
     "output_type": "stream",
     "text": [
      "Epoch: 1 / 10\n",
      "Training - Epoch: 1, Loss: 5.740, Accuracy: 6.490%\n",
      "Validation - Accuracy: 20.809%\n",
      "Epoch time: 16.710 secs\n",
      "\n",
      "Epoch: 2 / 10\n",
      "Training - Epoch: 2, Loss: 2.779, Accuracy: 27.212%\n",
      "Validation - Accuracy: 45.665%\n",
      "Epoch time: 16.887 secs\n",
      "\n",
      "Epoch: 3 / 10\n",
      "Training - Epoch: 3, Loss: 1.762, Accuracy: 48.156%\n",
      "Validation - Accuracy: 55.491%\n",
      "Epoch time: 18.552 secs\n",
      "\n",
      "Epoch: 4 / 10\n",
      "Training - Epoch: 4, Loss: 1.150, Accuracy: 64.897%\n",
      "Validation - Accuracy: 71.098%\n",
      "Epoch time: 16.884 secs\n",
      "\n",
      "Epoch: 5 / 10\n",
      "Training - Epoch: 5, Loss: 0.877, Accuracy: 72.050%\n",
      "Validation - Accuracy: 72.832%\n",
      "Epoch time: 16.769 secs\n",
      "\n",
      "Epoch: 6 / 10\n",
      "Training - Epoch: 6, Loss: 0.600, Accuracy: 80.752%\n",
      "Validation - Accuracy: 79.480%\n",
      "Epoch time: 16.748 secs\n",
      "\n",
      "Epoch: 7 / 10\n",
      "Training - Epoch: 7, Loss: 0.465, Accuracy: 85.251%\n",
      "Validation - Accuracy: 82.370%\n",
      "Epoch time: 16.656 secs\n",
      "\n",
      "Epoch: 8 / 10\n",
      "Training - Epoch: 8, Loss: 0.385, Accuracy: 86.504%\n",
      "Validation - Accuracy: 86.416%\n",
      "Epoch time: 15.572 secs\n",
      "\n",
      "Epoch: 9 / 10\n",
      "Training - Epoch: 9, Loss: 0.354, Accuracy: 87.906%\n",
      "Validation - Accuracy: 85.549%\n",
      "Epoch time: 15.503 secs\n",
      "\n",
      "Epoch: 10 / 10\n",
      "Training - Epoch: 10, Loss: 0.259, Accuracy: 91.372%\n",
      "Validation - Accuracy: 85.549%\n",
      "Epoch time: 15.553 secs\n",
      "\n"
     ]
    }
   ],
   "source": [
    "import time\n",
    "\n",
    "if __name__ == '__main__':    \n",
    "    for epoch in range(epochs):\n",
    "        start_time = time.time()\n",
    "        correct_train, total_train = 0, 0\n",
    "        correct_val, total_val = 0, 0\n",
    "        train_loss_C = 0.0\n",
    "\n",
    "        C.train()  # 設定成訓練模式\n",
    "        print(f'Epoch: {epoch + 1} / {epochs}')\n",
    "        \n",
    "        # 訓練階段\n",
    "        for i, (x, label) in enumerate(train_dataloader):\n",
    "            x, label = x.to(device), label.to(device)\n",
    "            optimizer_C.zero_grad()                     \n",
    "            train_output = C(x)                         \n",
    "            train_loss = criterion(train_output, label)\n",
    "            # 更新梯度權重\n",
    "            train_loss.backward()             \n",
    "            optimizer_C.step()                       \n",
    "            \n",
    "            _, predicted = torch.max(train_output.data, 1)\n",
    "            total_train += label.size(0)\n",
    "            correct_train += (predicted == label).sum().item()\n",
    "            train_loss_C += train_loss.item()\n",
    "            \n",
    "        train_accuracy = 100 * correct_train / total_train\n",
    "        print(f'Training - Epoch: {epoch + 1}, Loss: {train_loss_C / len(train_dataloader):.3f}, Accuracy: {train_accuracy:.3f}%')\n",
    "        \n",
    "        # 驗證階段\n",
    "        C.eval()  # 設定為評估模式\n",
    "        with torch.no_grad(): # 設定不要影響梯度\n",
    "            for i, (x, label) in enumerate(val_dataloader):\n",
    "                x, label = x.to(device), label.to(device)\n",
    "                val_output = C(x)\n",
    "                _, predicted = torch.max(val_output.data, 1)\n",
    "                total_val += label.size(0)\n",
    "                correct_val += (predicted == label).sum().item()\n",
    "        \n",
    "        val_accuracy = 100 * correct_val / total_val\n",
    "        print(f'Validation - Accuracy: {val_accuracy:.3f}%')\n",
    "                                     \n",
    "        train_acc.append(train_accuracy)\n",
    "        val_acc.append(val_accuracy)\n",
    "        loss_epoch_C.append(train_loss_C / len(train_dataloader))\n",
    "\n",
    "        end_time = time.time()\n",
    "        print(f'Epoch time: {end_time - start_time:.3f} secs\\n')"
   ]
  },
  {
   "cell_type": "code",
   "execution_count": 35,
   "metadata": {},
   "outputs": [],
   "source": [
    "test_path = \"testing/0D69LppfiM6saZx8HnkE.jpg\""
   ]
  },
  {
   "cell_type": "code",
   "execution_count": 36,
   "metadata": {},
   "outputs": [
    {
     "data": {
      "image/png": "[encoded data removed]",
      "text/plain": [
       "<Figure size 640x480 with 1 Axes>"
      ]
     },
     "metadata": {},
     "output_type": "display_data"
    },
    {
     "data": {
      "image/png": "[encoded data removed]",
      "text/plain": [
       "<Figure size 640x480 with 1 Axes>"
      ]
     },
     "metadata": {},
     "output_type": "display_data"
    }
   ],
   "source": [
    "fig_dir = './fig/'\n",
    "if not os.path.isdir(fig_dir):\n",
    "    os.makedirs(fig_dir)\n",
    "\n",
    "# 繪製訓練損失圖表\n",
    "plt.figure()\n",
    "plt.plot(list(range(epochs)), loss_epoch_C)  # 繪製訓練損失曲線\n",
    "plt.title('Training Loss')\n",
    "plt.ylabel('Loss'), plt.xlabel('Epoch')\n",
    "plt.legend(['Train Loss'], loc='upper left')\n",
    "plt.savefig(os.path.join(fig_dir, 'training_loss.png'))\n",
    "plt.show()\n",
    "\n",
    "# 繪製訓練和驗證準確率圖表\n",
    "plt.figure()\n",
    "plt.plot(list(range(epochs)), train_acc, label='Training Accuracy')  # 繪製訓練準確率曲線\n",
    "plt.plot(list(range(epochs)), val_acc, label='Validation Accuracy')  # 繪製驗證準確率曲線\n",
    "plt.title('Accuracy')\n",
    "plt.ylabel('Accuracy (%)'), plt.xlabel('Epoch')\n",
    "plt.legend(loc='upper left')\n",
    "plt.savefig(os.path.join(fig_dir, 'accuracy.png'))\n",
    "plt.show()"
   ]
  }
 ],
 "metadata": {
  "kernelspec": {
   "display_name": "Python 3",
   "language": "python",
   "name": "python3"
  },
  "language_info": {
   "codemirror_mode": {
    "name": "ipython",
    "version": 3
   },
   "file_extension": ".py",
   "mimetype": "text/x-python",
   "name": "python",
   "nbconvert_exporter": "python",
   "pygments_lexer": "ipython3",
   "version": "3.9.6"
  }
 },
 "nbformat": 4,
 "nbformat_minor": 2
}
